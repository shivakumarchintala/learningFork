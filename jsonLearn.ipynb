{
 "cells": [
  {
   "cell_type": "code",
   "execution_count": 1,
   "id": "10a677af-f4c2-4583-85f4-20c01a6c600e",
   "metadata": {},
   "outputs": [],
   "source": [
    "import findspark\n",
    "findspark.init()"
   ]
  },
  {
   "cell_type": "code",
   "execution_count": 2,
   "id": "6f15c388-d340-4bbd-8edd-8fbafcfd4411",
   "metadata": {},
   "outputs": [],
   "source": [
    "import json"
   ]
  },
  {
   "cell_type": "code",
   "execution_count": 3,
   "id": "2b1157bd-9e8e-4e2c-a679-73726cb4f108",
   "metadata": {},
   "outputs": [],
   "source": [
    "from pyspark.sql import SparkSession, functions as f"
   ]
  },
  {
   "cell_type": "code",
   "execution_count": 4,
   "id": "7153c5b1-0d4b-4606-b8df-880b01f0eb7c",
   "metadata": {},
   "outputs": [
    {
     "name": "stderr",
     "output_type": "stream",
     "text": [
      "2022-10-24 15:23:04,722 WARN util.Utils: Your hostname, shiva-VirtualBox resolves to a loopback address: 127.0.1.1; using 10.0.2.15 instead (on interface enp0s3)\n",
      "2022-10-24 15:23:04,724 WARN util.Utils: Set SPARK_LOCAL_IP if you need to bind to another address\n",
      "Setting default log level to \"WARN\".\n",
      "To adjust logging level use sc.setLogLevel(newLevel). For SparkR, use setLogLevel(newLevel).\n"
     ]
    }
   ],
   "source": [
    "spark = SparkSession.builder.appName(\"learnJson\").master(\"local[6]\").getOrCreate()"
   ]
  },
  {
   "cell_type": "code",
   "execution_count": 5,
   "id": "7224288d-f9ea-4766-a283-ce2b0b2a8a5f",
   "metadata": {},
   "outputs": [
    {
     "name": "stderr",
     "output_type": "stream",
     "text": [
      "2022-10-24 15:23:20,140 WARN util.package: Truncated the string representation of a plan since it was too large. This behavior can be adjusted by setting 'spark.sql.debug.maxToStringFields'.\n"
     ]
    }
   ],
   "source": [
    "df = spark.read.format(\"json\").options(\n",
    "**{\n",
    "    \"inferSchema\":True,\n",
    "    \"multiline\":True\n",
    "}\n",
    ").load(\"file:/home/hdoop/spark/learnJson/file2.json\")"
   ]
  },
  {
   "cell_type": "code",
   "execution_count": 120,
   "id": "ebb6ab99-eb1c-4732-b126-5e90fe0f0158",
   "metadata": {},
   "outputs": [
    {
     "data": {
      "text/plain": [
       "'10a35f36f5898432823df42bc743c8aa'"
      ]
     },
     "execution_count": 120,
     "metadata": {},
     "output_type": "execute_result"
    }
   ],
   "source": [
    "df.select(\"restaurants\").head(1)[0].restaurants[0].restaurant.apikey"
   ]
  },
  {
   "cell_type": "code",
   "execution_count": null,
   "id": "2134e96e-bfd2-45e1-bf77-66145041bb2e",
   "metadata": {},
   "outputs": [],
   "source": [
    "f.expl"
   ]
  },
  {
   "cell_type": "code",
   "execution_count": 6,
   "id": "4b64a003-9c52-491e-91b6-862d4b2b01c7",
   "metadata": {},
   "outputs": [
    {
     "name": "stderr",
     "output_type": "stream",
     "text": [
      "[Stage 1:>                                                          (0 + 1) / 1]\r"
     ]
    },
    {
     "name": "stdout",
     "output_type": "stream",
     "text": [
      "+--------------------+--------+--------------------+--------------------+-------------+-------------+-------------+\n",
      "|                 col|     col|        restaurants2|         restaurants|results_found|results_shown|results_start|\n",
      "+--------------------+--------+--------------------+--------------------+-------------+-------------+-------------+\n",
      "|10a35f36f58984328...|16668008|{{{16668008}, 10a...|[{{{16668008}, 10...|      1263908|           20|           21|\n",
      "|10a35f36f58984328...|16668008|{{{16668008}, 10a...|[{{{16668008}, 10...|      1263908|           20|           21|\n",
      "|10a35f36f58984328...|16668008|{{{16668008}, 10a...|[{{{16668008}, 10...|      1263908|           20|           21|\n",
      "|10a35f36f58984328...|16668008|{{{16668008}, 10a...|[{{{16668008}, 10...|      1263908|           20|           21|\n",
      "|10a35f36f58984328...|16668008|{{{16668008}, 10a...|[{{{16668008}, 10...|      1263908|           20|           21|\n",
      "|10a35f36f58984328...|16668008|{{{16668008}, 10a...|[{{{16668008}, 10...|      1263908|           20|           21|\n",
      "|10a35f36f58984328...|16668008|{{{16668008}, 10a...|[{{{16668008}, 10...|      1263908|           20|           21|\n",
      "|10a35f36f58984328...|16668008|{{{16668008}, 10a...|[{{{16668008}, 10...|      1263908|           20|           21|\n",
      "|10a35f36f58984328...|16668008|{{{16668008}, 10a...|[{{{16668008}, 10...|      1263908|           20|           21|\n",
      "|10a35f36f58984328...|16668008|{{{16668008}, 10a...|[{{{16668008}, 10...|      1263908|           20|           21|\n",
      "|10a35f36f58984328...|16668008|{{{16668008}, 10a...|[{{{16668008}, 10...|      1263908|           20|           21|\n",
      "|10a35f36f58984328...|16668008|{{{16668008}, 10a...|[{{{16668008}, 10...|      1263908|           20|           21|\n",
      "|10a35f36f58984328...|16668008|{{{16668008}, 10a...|[{{{16668008}, 10...|      1263908|           20|           21|\n",
      "|10a35f36f58984328...|16668008|{{{16668008}, 10a...|[{{{16668008}, 10...|      1263908|           20|           21|\n",
      "|10a35f36f58984328...|16668008|{{{16668008}, 10a...|[{{{16668008}, 10...|      1263908|           20|           21|\n",
      "|10a35f36f58984328...|16668008|{{{16668008}, 10a...|[{{{16668008}, 10...|      1263908|           20|           21|\n",
      "|10a35f36f58984328...|16668008|{{{16668008}, 10a...|[{{{16668008}, 10...|      1263908|           20|           21|\n",
      "|10a35f36f58984328...|16668008|{{{16668008}, 10a...|[{{{16668008}, 10...|      1263908|           20|           21|\n",
      "|10a35f36f58984328...|16668008|{{{16668008}, 10a...|[{{{16668008}, 10...|      1263908|           20|           21|\n",
      "|10a35f36f58984328...|16668008|{{{16668008}, 10a...|[{{{16668008}, 10...|      1263908|           20|           21|\n",
      "+--------------------+--------+--------------------+--------------------+-------------+-------------+-------------+\n",
      "only showing top 20 rows\n",
      "\n"
     ]
    },
    {
     "name": "stderr",
     "output_type": "stream",
     "text": [
      "                                                                                \r"
     ]
    }
   ],
   "source": [
    "(df\n",
    " .selectExpr(\"explode(restaurants) as restaurants2\",\"*\")\n",
    " .selectExpr(\"explode(restaurants.restaurant.R.res_id)\",\"*\")\n",
    " .selectExpr(\"explode(restaurants.restaurant.apikey)\",\"*\")\n",
    ").show()"
   ]
  }
 ],
 "metadata": {
  "kernelspec": {
   "display_name": "Python 3 (ipykernel)",
   "language": "python",
   "name": "python3"
  },
  "language_info": {
   "codemirror_mode": {
    "name": "ipython",
    "version": 3
   },
   "file_extension": ".py",
   "mimetype": "text/x-python",
   "name": "python",
   "nbconvert_exporter": "python",
   "pygments_lexer": "ipython3",
   "version": "3.8.10"
  }
 },
 "nbformat": 4,
 "nbformat_minor": 5
}
